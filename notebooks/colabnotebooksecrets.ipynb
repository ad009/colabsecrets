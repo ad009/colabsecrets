{
 "cells": [
  {
   "cell_type": "markdown",
   "metadata": {
    "colab_type": "text",
    "id": "view-in-github"
   },
   "source": [
    "<a href=\"https://colab.research.google.com/gist/davidbau/537afacb93ede5d83e80f1f0b8b9e249/colabnotebooksecrets.ipynb\" target=\"_parent\"><img src=\"https://colab.research.google.com/assets/colab-badge.svg\" alt=\"Open In Colab\"/></a>"
   ]
  },
  {
   "cell_type": "markdown",
   "metadata": {
    "colab_type": "text",
    "id": "0DvOgNV0KhLk"
   },
   "source": [
    "#What makes Colab so great?"
   ]
  },
  {
   "cell_type": "code",
   "execution_count": null,
   "metadata": {
    "colab": {
     "base_uri": "https://localhost:8080/",
     "height": 306
    },
    "colab_type": "code",
    "id": "fUe1NF_pKdwE",
    "outputId": "ecc124d0-50aa-4b92-d518-7524a19ac0c0"
   },
   "outputs": [],
   "source": [
    "%%bash\n",
    "nvidia-smi"
   ]
  },
  {
   "cell_type": "markdown",
   "metadata": {
    "colab_type": "text",
    "id": "kxogaU3rLMwB"
   },
   "source": [
    "Yes, that's right.  Every Colab user gets their very own GPU, complements of Google!\n",
    "\n",
    "The main disadvantage of colab it might not come with the exact environment you are used to.  But there are two reasons this is not really a problem.\n",
    "\n",
    "1. The defaults are pretty reasonable.\n",
    "2. You are root.\n",
    "\n",
    "Check out the defaults: they include the latest versions of pytorch, tensorflow, java, gcc, etc."
   ]
  },
  {
   "cell_type": "code",
   "execution_count": null,
   "metadata": {
    "colab": {
     "base_uri": "https://localhost:8080/",
     "height": 1000
    },
    "colab_type": "code",
    "id": "VN3SXrXiMCzi",
    "outputId": "49efc136-43da-4b55-c783-b3fd621cb538"
   },
   "outputs": [],
   "source": [
    "%%bash\n",
    "\n",
    "# As of this writing, colab gives us an Ubuntu 18.04 machine.\n",
    "lsb_release -a\n",
    "\n",
    "# It includes a whole pile of software, e.g., perl, python, java, gcc, git, etc\n",
    "apt list --installed\n",
    "\n",
    "# And it preinstalls a healthy set of python: pytorch, tensorflow, pandas, etc.\n",
    "pip list"
   ]
  },
  {
   "cell_type": "markdown",
   "metadata": {
    "colab_type": "text",
    "id": "FQVGjx2KNWWf"
   },
   "source": [
    "And then check out the root access. You can install new packages at will."
   ]
  },
  {
   "cell_type": "code",
   "execution_count": null,
   "metadata": {
    "colab": {
     "base_uri": "https://localhost:8080/",
     "height": 34
    },
    "colab_type": "code",
    "id": "7DS8LnB1tyvV",
    "outputId": "61ff0c2a-35a2-4ceb-f14b-577a39f61ac4"
   },
   "outputs": [],
   "source": [
    "%%bash\n",
    "whoami"
   ]
  },
  {
   "cell_type": "code",
   "execution_count": null,
   "metadata": {
    "colab": {
     "base_uri": "https://localhost:8080/",
     "height": 1000
    },
    "colab_type": "code",
    "id": "TgFU5yugLL_F",
    "outputId": "f0723cfd-9c8f-44de-89a2-ca0c13663119"
   },
   "outputs": [],
   "source": [
    "%%bash\n",
    "apt-get install -q blender"
   ]
  },
  {
   "cell_type": "markdown",
   "metadata": {
    "colab_type": "text",
    "id": "1FRGWMs2PCpc"
   },
   "source": [
    "# Colab Notebook Boostrapping\n",
    "\n",
    "The main Google Colab disadvantage is that your data and environment are not there yet. So to make a Colab notebook, here is our plan of attack.\n",
    "1. Make a standard Jupyter notebook in your own project, on your own machine.\n",
    "2. Then make the notebook bring in its own dependencies when running on colab.\n",
    "\n",
    "Once we have a working notebook, at the top all we need to do is include a small section that runs only if the notebook is running on Colab.  It can look something like this:\n",
    "\n"
   ]
  },
  {
   "cell_type": "code",
   "execution_count": null,
   "metadata": {
    "colab": {
     "base_uri": "https://localhost:8080/",
     "height": 105
    },
    "colab_type": "code",
    "id": "vbougHyDSh62",
    "outputId": "495a89bf-aab8-4b63-aef4-a04a6fbeb2fe"
   },
   "outputs": [],
   "source": [
    "%%bash\n",
    "\n",
    "# Exit this cell if not running in colab.\n",
    "!(stat -t /usr/local/lib/*/dist-packages/google/colab > /dev/null 2>&1) && exit \n",
    "pip install ninja 2>> install.log\n",
    "git clone https://github.com/SIDN-IAP/global-model-repr.git tutorial_code 2>> install.log"
   ]
  },
  {
   "cell_type": "code",
   "execution_count": null,
   "metadata": {
    "colab": {},
    "colab_type": "code",
    "id": "F3Cm8KuhY7qg"
   },
   "outputs": [],
   "source": [
    "try: # this will alter the path if inside Google colab.\n",
    "    import google.colab, sys, torch\n",
    "    sys.path.append('/content/tutorial_code')\n",
    "    if not torch.cuda.is_available():\n",
    "        print(\"Change runtime type to include a GPU.\")  \n",
    "except:\n",
    "    pass"
   ]
  },
  {
   "cell_type": "markdown",
   "metadata": {
    "colab_type": "text",
    "id": "e_9EDj_YsXWj"
   },
   "source": [
    "# Other Google Colab Survival Tricks\n",
    "\n",
    "1. Use torch.hub to download models and automatically cache them, so you do not need to redownload things.\n",
    "2. Use a utility like `netdissect.show` for showing grids of images and other data.\n",
    "3. Unlike juypter, every Colab cell runs on its own independent webpage (in an iframe), so normal widgets do not work.  Use `netdissect.labwidgets` instead.\n",
    "\n",
    "See the following examples to show these techniques.\n",
    "\n",
    "https://colab.research.google.com/github/SIDN-IAP/global-model-repr/blob/master/notebooks/gandissect_solutions.ipynb\n",
    "\n",
    "https://colab.research.google.com/github/SIDN-IAP/interactivity/blob/master/notebooks/ganpaint-solution.ipynb"
   ]
  }
 ],
 "metadata": {
  "accelerator": "GPU",
  "colab": {
   "authorship_tag": "ABX9TyOK+1uiVrUakpWT76l4ph9A",
   "include_colab_link": true,
   "name": "ColabNotebookSecrets.ipynb",
   "provenance": []
  },
  "kernelspec": {
   "display_name": "Python 3",
   "name": "python3"
  }
 },
 "nbformat": 4,
 "nbformat_minor": 0
}